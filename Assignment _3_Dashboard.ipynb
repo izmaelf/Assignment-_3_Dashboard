{
 "cells": [
  {
   "cell_type": "markdown",
   "id": "1f9ee08e",
   "metadata": {},
   "source": [
    "# Tópico de Industria I - Assignment 3 - Dashboard\n",
    "Izmael Franco Quezada\n",
    "\n",
    "Minimum requirements:\n",
    "- Functions that return the different types of trajectories: Brownian Motion (BM),Correlated Random Walk (CRW), and Lévy Flight (LF).\n",
    "- All functions must take as arguments the number of steps, speed, and starting position.\n",
    " - In addition, CRW and LF functions must also take as an argument the Cauchy coefficient.\n",
    " - Lastly, the LF function must also include the Lévy exponent (alpha) as an argument.\n",
    "\n",
    "- Functions that compute the metrics: Path length (PL), Mean Squared Displacement (MSD), and Turning Angle Distribution (TAD)."
   ]
  },
  {
   "cell_type": "markdown",
   "id": "f11af175",
   "metadata": {},
   "source": [
    "# Librerias"
   ]
  },
  {
   "cell_type": "code",
   "execution_count": 28,
   "id": "8fded41e",
   "metadata": {},
   "outputs": [],
   "source": [
    "import numpy as np\n",
    "import plotly.graph_objects as go\n",
    "import pandas as pd\n",
    "from scipy.stats import levy_stable, cauchy\n",
    "import math\n",
    "import ipywidgets as widgets\n",
    "from IPython.display import display"
   ]
  },
  {
   "cell_type": "markdown",
   "id": "4b1ef848",
   "metadata": {},
   "source": [
    "# Vec2d Class"
   ]
  },
  {
   "cell_type": "code",
   "execution_count": 29,
   "id": "754b355f",
   "metadata": {},
   "outputs": [],
   "source": [
    "################# http://www.pygame.org/wiki/2DVectorClass ##################\n",
    "class Vec2d(object):\n",
    "    \"\"\"2d vector class, supports vector and scalar operators,\n",
    "       and also provides a bunch of high level functions\n",
    "       \"\"\"\n",
    "    __slots__ = ['x', 'y']\n",
    "\n",
    "    def __init__(self, x_or_pair, y = None):\n",
    "        if y == None:            \n",
    "            self.x = x_or_pair[0]\n",
    "            self.y = x_or_pair[1]\n",
    "        else:\n",
    "            self.x = x_or_pair\n",
    "            self.y = y\n",
    "            \n",
    "    # Addition\n",
    "    def __add__(self, other):\n",
    "        if isinstance(other, Vec2d):\n",
    "            return Vec2d(self.x + other.x, self.y + other.y)\n",
    "        elif hasattr(other, \"__getitem__\"):\n",
    "            return Vec2d(self.x + other[0], self.y + other[1])\n",
    "        else:\n",
    "            return Vec2d(self.x + other, self.y + other)\n",
    "\n",
    "    # Subtraction\n",
    "    def __sub__(self, other):\n",
    "        if isinstance(other, Vec2d):\n",
    "            return Vec2d(self.x - other.x, self.y - other.y)\n",
    "        elif (hasattr(other, \"__getitem__\")):\n",
    "            return Vec2d(self.x - other[0], self.y - other[1])\n",
    "        else:\n",
    "            return Vec2d(self.x - other, self.y - other)\n",
    "    \n",
    "    # Vector length\n",
    "    def get_length(self):\n",
    "        return math.sqrt(self.x**2 + self.y**2)\n",
    "    \n",
    "    # rotate vector\n",
    "    def rotated(self, angle):        \n",
    "        cos = math.cos(angle)\n",
    "        sin = math.sin(angle)\n",
    "        x = self.x*cos - self.y*sin\n",
    "        y = self.x*sin + self.y*cos\n",
    "        return Vec2d(x, y)"
   ]
  },
  {
   "cell_type": "markdown",
   "id": "ea68e749",
   "metadata": {},
   "source": [
    "# Main code"
   ]
  },
  {
   "cell_type": "code",
   "execution_count": 31,
   "id": "a5a3e79a",
   "metadata": {},
   "outputs": [
    {
     "data": {
      "application/vnd.jupyter.widget-view+json": {
       "model_id": "331d0659758a4ab1af2458048f3e5e8d",
       "version_major": 2,
       "version_minor": 0
      },
      "text/plain": [
       "RadioButtons(description='Select Simulation:', options=('Levy 3D Trajectory', 'CRW 3D Trajectory', 'Brownian M…"
      ]
     },
     "metadata": {},
     "output_type": "display_data"
    },
    {
     "data": {
      "application/vnd.jupyter.widget-view+json": {
       "model_id": "54eef0d5b54f438e918230c6dba294ec",
       "version_major": 2,
       "version_minor": 0
      },
      "text/plain": [
       "IntSlider(value=1000, description='Steps', max=5000, min=100, step=100)"
      ]
     },
     "metadata": {},
     "output_type": "display_data"
    },
    {
     "data": {
      "application/vnd.jupyter.widget-view+json": {
       "model_id": "c600e389f1ad43d69003b7dac3118360",
       "version_major": 2,
       "version_minor": 0
      },
      "text/plain": [
       "FloatSlider(value=1.0, description='Speed', max=5.0, min=0.1)"
      ]
     },
     "metadata": {},
     "output_type": "display_data"
    },
    {
     "data": {
      "application/vnd.jupyter.widget-view+json": {
       "model_id": "49157af21be141e5a12508cf6d445755",
       "version_major": 2,
       "version_minor": 0
      },
      "text/plain": [
       "FloatText(value=0.0, description='Initial X')"
      ]
     },
     "metadata": {},
     "output_type": "display_data"
    },
    {
     "data": {
      "application/vnd.jupyter.widget-view+json": {
       "model_id": "a42b8ba77c174b888fab27045b424b37",
       "version_major": 2,
       "version_minor": 0
      },
      "text/plain": [
       "FloatText(value=0.0, description='Initial Y')"
      ]
     },
     "metadata": {},
     "output_type": "display_data"
    },
    {
     "data": {
      "application/vnd.jupyter.widget-view+json": {
       "model_id": "fa77857b5f0e4353bb1a78d34e086d29",
       "version_major": 2,
       "version_minor": 0
      },
      "text/plain": [
       "FloatSlider(value=0.0, description='Cauchy Coef', max=2.0)"
      ]
     },
     "metadata": {},
     "output_type": "display_data"
    },
    {
     "data": {
      "application/vnd.jupyter.widget-view+json": {
       "model_id": "6c231bdeeeca455c963d964a7eff405e",
       "version_major": 2,
       "version_minor": 0
      },
      "text/plain": [
       "Output()"
      ]
     },
     "metadata": {},
     "output_type": "display_data"
    }
   ],
   "source": [
    "def brownian_motion_trajectory(n_steps, speed, initial_pos):\n",
    "    \"\"\"Simulates a 2D trajectory using Brownian motion.\"\"\"\n",
    "    trajectory = np.zeros((n_steps, 2))\n",
    "    position = Vec2d(initial_pos[0], initial_pos[1])\n",
    "    \n",
    "    for i in range(n_steps):\n",
    "        # Generate small random steps in x and y\n",
    "        delta_x = np.random.normal(loc=0, scale=speed)\n",
    "        delta_y = np.random.normal(loc=0, scale=speed)\n",
    "        step_vector = Vec2d(delta_x, delta_y)\n",
    "        \n",
    "        position += step_vector\n",
    "        trajectory[i] = [position.x, position.y]\n",
    "    \n",
    "    return pd.DataFrame(trajectory, columns=[\"x\", \"y\"])\n",
    "\n",
    "############## 3D Visualization Function for Brownian Motion ################\n",
    "def visualize_brownian_motion_3d(n_steps, speed, initial_x, initial_y):\n",
    "    # Generate the trajectory\n",
    "    initial_pos = [initial_x, initial_y]\n",
    "    trajectory_df = brownian_motion_trajectory(n_steps, speed, initial_pos)\n",
    "    \n",
    "    # Add 'z' as the number of steps\n",
    "    trajectory_df['z'] = np.arange(len(trajectory_df))\n",
    "    \n",
    "    # Visualize the trajectory in 3D using Plotly\n",
    "    fig = go.Figure(data=[go.Scatter3d(\n",
    "        x=trajectory_df['x'],\n",
    "        y=trajectory_df['y'],\n",
    "        z=trajectory_df['z'],\n",
    "        mode='lines',\n",
    "        line=dict(color='green', width=2)\n",
    "    )])\n",
    "    \n",
    "    fig.update_layout(\n",
    "        title='3D Trajectory',\n",
    "        scene=dict(\n",
    "            xaxis_title='X_pos',\n",
    "            yaxis_title='Y_pos',\n",
    "            zaxis_title='Step Number'\n",
    "        )\n",
    "    )\n",
    "    \n",
    "    fig.show(renderer=\"notebook\") \n",
    "\n",
    "############## Lévy Flight Trajectory Function ################\n",
    "def levy_flight_trajectory(n_steps, alpha, beta, initial_pos, speed):\n",
    "    \"\"\"Simulate a 2D Lévy flight trajectory.\"\"\"\n",
    "    position = Vec2d(initial_pos[0], initial_pos[1])\n",
    "    trajectory = [(position.x, position.y)]  # Initial position in trajectory\n",
    "    \n",
    "    for _ in range(n_steps):\n",
    "        step_length = levy_stable.rvs(alpha, beta) * speed\n",
    "        angle = np.random.uniform(0, 2 * np.pi)\n",
    "        step_vector = Vec2d(step_length * np.cos(angle), step_length * np.sin(angle))\n",
    "        position += step_vector\n",
    "        trajectory.append((position.x, position.y))\n",
    "    \n",
    "    return pd.DataFrame(trajectory, columns=[\"x\", \"y\"])\n",
    "\n",
    "############## 3D Visualization Function for Lévy Flight ################\n",
    "def visualize_trajectory_3d(n_steps, speed, initial_x, initial_y, cauchy_coef):\n",
    "    # Generate the trajectory\n",
    "    alpha, beta = 1.5, cauchy_coef  # Use the Cauchy coefficient in the Lévy-Stable distribution\n",
    "    initial_pos = [initial_x, initial_y]\n",
    "    trajectory_df = levy_flight_trajectory(n_steps, alpha, beta, initial_pos, speed)\n",
    "    \n",
    "    # Add 'z' as the number of steps\n",
    "    trajectory_df['z'] = np.arange(len(trajectory_df))\n",
    "    \n",
    "    # Visualize with Plotly\n",
    "    fig = go.Figure(data=[go.Scatter3d(\n",
    "        x=trajectory_df['x'],\n",
    "        y=trajectory_df['y'],\n",
    "        z=trajectory_df['z'],\n",
    "        mode='lines',\n",
    "        line=dict(color='blue', width=2)\n",
    "    )])\n",
    "    \n",
    "    fig.update_layout(\n",
    "        title='3D Trajectory',\n",
    "        scene=dict(\n",
    "            xaxis_title='X_pos',\n",
    "            yaxis_title='Y_pos',\n",
    "            zaxis_title='Step Number'\n",
    "        )\n",
    "    )\n",
    "    \n",
    "    fig.show(renderer=\"notebook\") \n",
    "\n",
    "############## 3D Visualization Function for CRW (Cauchy Distribution) ################\n",
    "def visualize_trajectory_CRW_3d(n_steps, initial_x, initial_y):\n",
    "    # Initialize the trajectory\n",
    "    trajectory = np.zeros((n_steps, 2))  # Trajectory in a numpy array\n",
    "    initial_position = Vec2d(initial_x, initial_y)\n",
    "    initial_vector = Vec2d(1, 0)\n",
    "\n",
    "    # Random angles using the Cauchy distribution\n",
    "    cauchy_rvs = cauchy.rvs(size=n_steps)  # Use cauchy.rvs directly\n",
    "    current_position = initial_position\n",
    "    current_vector = initial_vector\n",
    "\n",
    "    for i in range(n_steps):\n",
    "        angle = cauchy_rvs[i]  # Take the random angle\n",
    "        current_vector = current_vector.rotated(angle)\n",
    "        current_position = current_position + current_vector\n",
    "        trajectory[i] = [current_position.x, current_position.y]  # Store the new position\n",
    "\n",
    "    # Add 'z' as the number of steps\n",
    "    z = np.arange(n_steps)\n",
    "\n",
    "    # Visualize the trajectory in 3D using Plotly\n",
    "    fig = go.Figure(data=[go.Scatter3d(\n",
    "        x=trajectory[:, 0],\n",
    "        y=trajectory[:, 1],\n",
    "        z=z,\n",
    "        mode='lines',  # Only show lines\n",
    "        line=dict(color='red', width=2)  # Line settings\n",
    "    )])\n",
    "\n",
    "    fig.update_layout(\n",
    "        title='3D Trajectory',\n",
    "        scene=dict(\n",
    "            xaxis_title='X_position',\n",
    "            yaxis_title='Y_position',\n",
    "            zaxis_title='Step Number'\n",
    "        )\n",
    "    )\n",
    "\n",
    "    fig.show(renderer=\"notebook\")\n",
    "\n",
    "############## Create an Interactive Panel ################\n",
    "# Interactive widgets\n",
    "n_steps_slider = widgets.IntSlider(value=1000, min=100, max=5000, step=100, description='Steps')\n",
    "speed_slider = widgets.FloatSlider(value=1.0, min=0.1, max=5.0, step=0.1, description='Speed')\n",
    "initial_x_text = widgets.FloatText(value=0.0, description='Initial X')\n",
    "initial_y_text = widgets.FloatText(value=0.0, description='Initial Y')\n",
    "cauchy_coef_slider = widgets.FloatSlider(value=0.0, min=0, max=2.0, step=0.1, description='Cauchy Coef')\n",
    "\n",
    "# Button to select the simulation\n",
    "levy_button = widgets.RadioButtons(\n",
    "    options=['Levy 3D Trajectory', 'CRW 3D Trajectory', 'Brownian Motion 3D Trajectory'],\n",
    "    description='Select Simulation:',\n",
    "    disabled=False\n",
    ")\n",
    "\n",
    "# Function to dynamically update the graph\n",
    "def update_graph(n_steps, speed, initial_x, initial_y, cauchy_coef, simulation):\n",
    "    if simulation == 'Levy 3D Trajectory':\n",
    "        visualize_trajectory_3d(n_steps, speed, initial_x, initial_y, cauchy_coef)\n",
    "    elif simulation == 'CRW 3D Trajectory':\n",
    "        visualize_trajectory_CRW_3d(n_steps, initial_x, initial_y)\n",
    "    elif simulation == 'Brownian Motion 3D Trajectory':\n",
    "        visualize_brownian_motion_3d(n_steps, speed, initial_x, initial_y)\n",
    "\n",
    "# Interactive panel that updates based on parameters\n",
    "interactive_output = widgets.interactive_output(\n",
    "    update_graph,\n",
    "    {\n",
    "        'n_steps': n_steps_slider,\n",
    "        'speed': speed_slider,\n",
    "        'initial_x': initial_x_text,\n",
    "        'initial_y': initial_y_text,\n",
    "        'cauchy_coef': cauchy_coef_slider,\n",
    "        'simulation': levy_button\n",
    "    }\n",
    ")\n",
    "\n",
    "# Display all controls\n",
    "display(\n",
    "    levy_button,\n",
    "    n_steps_slider,\n",
    "    speed_slider,\n",
    "    initial_x_text,\n",
    "    initial_y_text,\n",
    "    cauchy_coef_slider,\n",
    "    interactive_output\n",
    ")\n"
   ]
  },
  {
   "cell_type": "code",
   "execution_count": null,
   "id": "b62c6f67",
   "metadata": {},
   "outputs": [],
   "source": []
  }
 ],
 "metadata": {
  "kernelspec": {
   "display_name": "Python 3 (ipykernel)",
   "language": "python",
   "name": "python3"
  },
  "language_info": {
   "codemirror_mode": {
    "name": "ipython",
    "version": 3
   },
   "file_extension": ".py",
   "mimetype": "text/x-python",
   "name": "python",
   "nbconvert_exporter": "python",
   "pygments_lexer": "ipython3",
   "version": "3.11.5"
  }
 },
 "nbformat": 4,
 "nbformat_minor": 5
}
