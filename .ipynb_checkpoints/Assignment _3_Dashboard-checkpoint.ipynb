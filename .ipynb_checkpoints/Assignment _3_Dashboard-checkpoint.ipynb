{
 "cells": [
  {
   "cell_type": "code",
   "execution_count": 36,
   "id": "fa13f252",
   "metadata": {},
   "outputs": [],
   "source": [
    "import numpy as np\n",
    "import plotly.graph_objects as go\n",
    "import pandas as pd\n",
    "from scipy.stats import levy_stable, cauchy  # Importa cauchy directamente\n",
    "import math\n",
    "import ipywidgets as widgets\n",
    "from IPython.display import display"
   ]
  },
  {
   "cell_type": "code",
   "execution_count": 33,
   "id": "8a606ef7",
   "metadata": {},
   "outputs": [],
   "source": [
    "################# http://www.pygame.org/wiki/2DVectorClass ##################\n",
    "class Vec2d(object):\n",
    "    \"\"\"2d vector class, supports vector and scalar operators,\n",
    "       and also provides a bunch of high level functions\n",
    "       \"\"\"\n",
    "    __slots__ = ['x', 'y']\n",
    "\n",
    "    def __init__(self, x_or_pair, y = None):\n",
    "        if y == None:            \n",
    "            self.x = x_or_pair[0]\n",
    "            self.y = x_or_pair[1]\n",
    "        else:\n",
    "            self.x = x_or_pair\n",
    "            self.y = y\n",
    "            \n",
    "    # Addition\n",
    "    def __add__(self, other):\n",
    "        if isinstance(other, Vec2d):\n",
    "            return Vec2d(self.x + other.x, self.y + other.y)\n",
    "        elif hasattr(other, \"__getitem__\"):\n",
    "            return Vec2d(self.x + other[0], self.y + other[1])\n",
    "        else:\n",
    "            return Vec2d(self.x + other, self.y + other)\n",
    "\n",
    "    # Subtraction\n",
    "    def __sub__(self, other):\n",
    "        if isinstance(other, Vec2d):\n",
    "            return Vec2d(self.x - other.x, self.y - other.y)\n",
    "        elif (hasattr(other, \"__getitem__\")):\n",
    "            return Vec2d(self.x - other[0], self.y - other[1])\n",
    "        else:\n",
    "            return Vec2d(self.x - other, self.y - other)\n",
    "    \n",
    "    # Vector length\n",
    "    def get_length(self):\n",
    "        return math.sqrt(self.x**2 + self.y**2)\n",
    "    \n",
    "    # rotate vector\n",
    "    def rotated(self, angle):        \n",
    "        cos = math.cos(angle)\n",
    "        sin = math.sin(angle)\n",
    "        x = self.x*cos - self.y*sin\n",
    "        y = self.x*sin + self.y*cos\n",
    "        return Vec2d(x, y)"
   ]
  },
  {
   "cell_type": "code",
   "execution_count": 39,
   "id": "a114a1a2",
   "metadata": {},
   "outputs": [
    {
     "data": {
      "application/vnd.jupyter.widget-view+json": {
       "model_id": "a914151d86474b229ddd6bd961cf966d",
       "version_major": 2,
       "version_minor": 0
      },
      "text/plain": [
       "RadioButtons(description='Select Simulation:', options=('Levy 3D Trajectory', 'Cauchy 3D Trajectory'), value='…"
      ]
     },
     "metadata": {},
     "output_type": "display_data"
    },
    {
     "data": {
      "application/vnd.jupyter.widget-view+json": {
       "model_id": "6582346836cd419dac4eb94873adb059",
       "version_major": 2,
       "version_minor": 0
      },
      "text/plain": [
       "IntSlider(value=1000, description='Steps', max=5000, min=100, step=100)"
      ]
     },
     "metadata": {},
     "output_type": "display_data"
    },
    {
     "data": {
      "application/vnd.jupyter.widget-view+json": {
       "model_id": "2fc48233972b4c63b4fc2fb03cdda845",
       "version_major": 2,
       "version_minor": 0
      },
      "text/plain": [
       "FloatSlider(value=1.0, description='Speed', max=5.0, min=0.1)"
      ]
     },
     "metadata": {},
     "output_type": "display_data"
    },
    {
     "data": {
      "application/vnd.jupyter.widget-view+json": {
       "model_id": "bdebda28d2db46d797718d3e474d4fc1",
       "version_major": 2,
       "version_minor": 0
      },
      "text/plain": [
       "FloatText(value=0.0, description='Initial X')"
      ]
     },
     "metadata": {},
     "output_type": "display_data"
    },
    {
     "data": {
      "application/vnd.jupyter.widget-view+json": {
       "model_id": "e989c36584774c1a8c48ddc10ef1ee75",
       "version_major": 2,
       "version_minor": 0
      },
      "text/plain": [
       "FloatText(value=0.0, description='Initial Y')"
      ]
     },
     "metadata": {},
     "output_type": "display_data"
    },
    {
     "data": {
      "application/vnd.jupyter.widget-view+json": {
       "model_id": "37007289141045f3840c7b2e062a2951",
       "version_major": 2,
       "version_minor": 0
      },
      "text/plain": [
       "FloatSlider(value=0.0, description='Cauchy Coef', max=2.0, min=-2.0)"
      ]
     },
     "metadata": {},
     "output_type": "display_data"
    },
    {
     "data": {
      "application/vnd.jupyter.widget-view+json": {
       "model_id": "b56c71ce505644968fcf4d3e2dfc3bc1",
       "version_major": 2,
       "version_minor": 0
      },
      "text/plain": [
       "Output()"
      ]
     },
     "metadata": {},
     "output_type": "display_data"
    }
   ],
   "source": [
    "\n",
    "############## Función Levy Flight Trajectory ################\n",
    "def levy_flight_trajectory(n_steps, alpha, beta, initial_pos, speed):\n",
    "    \"\"\"Simulate a 2D Lévy flight trajectory.\"\"\"\n",
    "    position = Vec2d(initial_pos[0], initial_pos[1])\n",
    "    trajectory = [(position.x, position.y)]  # Initial position in trajectory\n",
    "    \n",
    "    for _ in range(n_steps):\n",
    "        step_length = levy_stable.rvs(alpha, beta) * speed\n",
    "        angle = np.random.uniform(0, 2 * np.pi)\n",
    "        step_vector = Vec2d(step_length * np.cos(angle), step_length * np.sin(angle))\n",
    "        position += step_vector\n",
    "        trajectory.append((position.x, position.y))\n",
    "    \n",
    "    return pd.DataFrame(trajectory, columns=[\"x\", \"y\"])\n",
    "\n",
    "############## Función de visualización 3D para Levy ################\n",
    "def visualize_trajectory_3d(n_steps, speed, initial_x, initial_y, cauchy_coef):\n",
    "    # Generar trayectoria\n",
    "    alpha, beta = 1.5, cauchy_coef  # Usamos el coeficiente de Cauchy en la distribución Levy-Stable\n",
    "    initial_pos = [initial_x, initial_y]\n",
    "    trajectory_df = levy_flight_trajectory(n_steps, alpha, beta, initial_pos, speed)\n",
    "    \n",
    "    # Agregar 'z' como número de pasos\n",
    "    trajectory_df['z'] = np.arange(len(trajectory_df))\n",
    "    \n",
    "    # Visualización con Plotly\n",
    "    fig = go.Figure(data=[go.Scatter3d(\n",
    "        x=trajectory_df['x'],\n",
    "        y=trajectory_df['y'],\n",
    "        z=trajectory_df['z'],\n",
    "        mode='lines',\n",
    "        line=dict(color='blue', width=2)\n",
    "    )])\n",
    "    \n",
    "    fig.update_layout(\n",
    "        title='3D Trajectory',\n",
    "        scene=dict(\n",
    "            xaxis_title='X_pos',\n",
    "            yaxis_title='Y_pos',\n",
    "            zaxis_title='Step Number'\n",
    "        )\n",
    "    )\n",
    "    \n",
    "    fig.show()\n",
    "\n",
    "############## Función de visualización 3D (Cauchy Distribution) ################\n",
    "def visualize_trajectory_cauchy_3d(n_steps, initial_x, initial_y):\n",
    "    # Inicializar la trayectoria\n",
    "    trajectory = np.zeros((n_steps, 2))  # Trayectoria en un array de numpy\n",
    "    initial_position = Vec2d(initial_x, initial_y)\n",
    "    initial_vector = Vec2d(1, 0)\n",
    "\n",
    "    # Ángulos aleatorios usando la distribución de Cauchy\n",
    "    cauchy_rvs = cauchy.rvs(size=n_steps)  # Usar cauchy.rvs directamente\n",
    "    current_position = initial_position\n",
    "    current_vector = initial_vector\n",
    "\n",
    "    for i in range(n_steps):\n",
    "        angle = cauchy_rvs[i]  # Tomar el ángulo aleatorio\n",
    "        current_vector = current_vector.rotated(angle)\n",
    "        current_position = current_position + current_vector\n",
    "        trajectory[i] = [current_position.x, current_position.y]  # Almacenar la nueva posición\n",
    "\n",
    "    # Agregar z como número de pasos\n",
    "    z = np.arange(n_steps)\n",
    "\n",
    "    # Visualizar la trayectoria en 3D usando Plotly\n",
    "    fig = go.Figure(data=[go.Scatter3d(\n",
    "        x=trajectory[:, 0],\n",
    "        y=trajectory[:, 1],\n",
    "        z=z,\n",
    "        mode='lines+markers',\n",
    "        line=dict(color='red', width=2),\n",
    "        marker=dict(size=3)\n",
    "    )])\n",
    "\n",
    "    fig.update_layout(\n",
    "        title='3D Trajectory',\n",
    "        scene=dict(\n",
    "            xaxis_title='X_position',\n",
    "            yaxis_title='Y_position',\n",
    "            zaxis_title='Step Number'\n",
    "        )\n",
    "    )\n",
    "\n",
    "    fig.show()\n",
    "\n",
    "############## Crear un panel interactivo ################\n",
    "# Widgets interactivos\n",
    "n_steps_slider = widgets.IntSlider(value=1000, min=100, max=5000, step=100, description='Steps')\n",
    "speed_slider = widgets.FloatSlider(value=1.0, min=0.1, max=5.0, step=0.1, description='Speed')\n",
    "initial_x_text = widgets.FloatText(value=0.0, description='Initial X')\n",
    "initial_y_text = widgets.FloatText(value=0.0, description='Initial Y')\n",
    "cauchy_coef_slider = widgets.FloatSlider(value=0.0, min=-2.0, max=2.0, step=0.1, description='Cauchy Coef')\n",
    "\n",
    "# Botón para seleccionar la simulación de Lévy\n",
    "levy_button = widgets.RadioButtons(\n",
    "    options=['Levy 3D Trajectory', 'Cauchy 3D Trajectory'],\n",
    "    description='Select Simulation:',\n",
    "    disabled=False\n",
    ")\n",
    "\n",
    "# Función para actualizar el gráfico dinámicamente\n",
    "def update_graph(n_steps, speed, initial_x, initial_y, cauchy_coef, simulation):\n",
    "    if simulation == 'Levy 3D Trajectory':\n",
    "        visualize_trajectory_3d(n_steps, speed, initial_x, initial_y, cauchy_coef)\n",
    "    else:\n",
    "        visualize_trajectory_cauchy_3d(n_steps, initial_x, initial_y)\n",
    "\n",
    "# Panel interactivo que actualiza según los parámetros\n",
    "interactive_output = widgets.interactive_output(\n",
    "    update_graph,\n",
    "    {\n",
    "        'n_steps': n_steps_slider,\n",
    "        'speed': speed_slider,\n",
    "        'initial_x': initial_x_text,\n",
    "        'initial_y': initial_y_text,\n",
    "        'cauchy_coef': cauchy_coef_slider,\n",
    "        'simulation': levy_button\n",
    "    }\n",
    ")\n",
    "\n",
    "# Mostrar todos los controles\n",
    "display(\n",
    "    levy_button,\n",
    "    n_steps_slider,\n",
    "    speed_slider,\n",
    "    initial_x_text,\n",
    "    initial_y_text,\n",
    "    cauchy_coef_slider,\n",
    "    interactive_output\n",
    ")\n"
   ]
  },
  {
   "cell_type": "code",
   "execution_count": null,
   "id": "9282216a",
   "metadata": {},
   "outputs": [],
   "source": []
  }
 ],
 "metadata": {
  "kernelspec": {
   "display_name": "Python 3 (ipykernel)",
   "language": "python",
   "name": "python3"
  },
  "language_info": {
   "codemirror_mode": {
    "name": "ipython",
    "version": 3
   },
   "file_extension": ".py",
   "mimetype": "text/x-python",
   "name": "python",
   "nbconvert_exporter": "python",
   "pygments_lexer": "ipython3",
   "version": "3.11.5"
  }
 },
 "nbformat": 4,
 "nbformat_minor": 5
}
